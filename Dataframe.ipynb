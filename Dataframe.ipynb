{
 "cells": [
  {
   "cell_type": "code",
   "execution_count": 47,
   "id": "9811a4b9-c473-4e4a-a736-2fddc603144c",
   "metadata": {},
   "outputs": [],
   "source": [
    "import numpy as np\n",
    "import pandas as pd"
   ]
  },
  {
   "cell_type": "code",
   "execution_count": 48,
   "id": "0c100e49-28da-43b8-a619-1cb31ad243d5",
   "metadata": {
    "tags": []
   },
   "outputs": [],
   "source": [
    "#Pandas operations\n",
    "#Conditional selection\n",
    "#Access rows & col's\n",
    "#Add & delete columns\n",
    "#Concatenation merging and joining dataframe\n",
    "#Handling missing values\n",
    "#apply()"
   ]
  },
  {
   "cell_type": "code",
   "execution_count": 49,
   "id": "be315307-ba03-48fc-967f-61808ea3b51a",
   "metadata": {},
   "outputs": [],
   "source": [
    "d={'USN':[11,12,13,14,15],\n",
    "  'NAME':['KATTY','POOJA','DARSHAN','NITISH','SIMRAN'],\n",
    "  'MOBILE':[23456,48373,34983,87432,34897],\n",
    "  'MARKS':[40,46,39,45,42]\n",
    "  }"
   ]
  },
  {
   "cell_type": "code",
   "execution_count": 50,
   "id": "3de13e4d-a36b-47a3-828b-e8863eaa4477",
   "metadata": {},
   "outputs": [],
   "source": [
    "std=pd.DataFrame(d)"
   ]
  },
  {
   "cell_type": "code",
   "execution_count": 51,
   "id": "5929ce0b-fc90-47e8-902f-cc1a76a06a7e",
   "metadata": {},
   "outputs": [
    {
     "data": {
      "text/html": [
       "<div>\n",
       "<style scoped>\n",
       "    .dataframe tbody tr th:only-of-type {\n",
       "        vertical-align: middle;\n",
       "    }\n",
       "\n",
       "    .dataframe tbody tr th {\n",
       "        vertical-align: top;\n",
       "    }\n",
       "\n",
       "    .dataframe thead th {\n",
       "        text-align: right;\n",
       "    }\n",
       "</style>\n",
       "<table border=\"1\" class=\"dataframe\">\n",
       "  <thead>\n",
       "    <tr style=\"text-align: right;\">\n",
       "      <th></th>\n",
       "      <th>USN</th>\n",
       "      <th>NAME</th>\n",
       "      <th>MOBILE</th>\n",
       "      <th>MARKS</th>\n",
       "    </tr>\n",
       "  </thead>\n",
       "  <tbody>\n",
       "    <tr>\n",
       "      <th>0</th>\n",
       "      <td>11</td>\n",
       "      <td>KATTY</td>\n",
       "      <td>23456</td>\n",
       "      <td>40</td>\n",
       "    </tr>\n",
       "    <tr>\n",
       "      <th>1</th>\n",
       "      <td>12</td>\n",
       "      <td>POOJA</td>\n",
       "      <td>48373</td>\n",
       "      <td>46</td>\n",
       "    </tr>\n",
       "    <tr>\n",
       "      <th>2</th>\n",
       "      <td>13</td>\n",
       "      <td>DARSHAN</td>\n",
       "      <td>34983</td>\n",
       "      <td>39</td>\n",
       "    </tr>\n",
       "    <tr>\n",
       "      <th>3</th>\n",
       "      <td>14</td>\n",
       "      <td>NITISH</td>\n",
       "      <td>87432</td>\n",
       "      <td>45</td>\n",
       "    </tr>\n",
       "    <tr>\n",
       "      <th>4</th>\n",
       "      <td>15</td>\n",
       "      <td>SIMRAN</td>\n",
       "      <td>34897</td>\n",
       "      <td>42</td>\n",
       "    </tr>\n",
       "  </tbody>\n",
       "</table>\n",
       "</div>"
      ],
      "text/plain": [
       "   USN     NAME  MOBILE  MARKS\n",
       "0   11    KATTY   23456     40\n",
       "1   12    POOJA   48373     46\n",
       "2   13  DARSHAN   34983     39\n",
       "3   14   NITISH   87432     45\n",
       "4   15   SIMRAN   34897     42"
      ]
     },
     "execution_count": 51,
     "metadata": {},
     "output_type": "execute_result"
    }
   ],
   "source": [
    "std"
   ]
  },
  {
   "cell_type": "code",
   "execution_count": 52,
   "id": "d2dfe71f-cf94-4333-b43a-a5a8b7a51fef",
   "metadata": {},
   "outputs": [
    {
     "data": {
      "text/html": [
       "<div>\n",
       "<style scoped>\n",
       "    .dataframe tbody tr th:only-of-type {\n",
       "        vertical-align: middle;\n",
       "    }\n",
       "\n",
       "    .dataframe tbody tr th {\n",
       "        vertical-align: top;\n",
       "    }\n",
       "\n",
       "    .dataframe thead th {\n",
       "        text-align: right;\n",
       "    }\n",
       "</style>\n",
       "<table border=\"1\" class=\"dataframe\">\n",
       "  <thead>\n",
       "    <tr style=\"text-align: right;\">\n",
       "      <th></th>\n",
       "      <th>USN</th>\n",
       "      <th>NAME</th>\n",
       "      <th>MOBILE</th>\n",
       "      <th>MARKS</th>\n",
       "    </tr>\n",
       "  </thead>\n",
       "  <tbody>\n",
       "    <tr>\n",
       "      <th>0</th>\n",
       "      <td>11</td>\n",
       "      <td>KATTY</td>\n",
       "      <td>23456</td>\n",
       "      <td>40</td>\n",
       "    </tr>\n",
       "    <tr>\n",
       "      <th>1</th>\n",
       "      <td>12</td>\n",
       "      <td>POOJA</td>\n",
       "      <td>48373</td>\n",
       "      <td>46</td>\n",
       "    </tr>\n",
       "  </tbody>\n",
       "</table>\n",
       "</div>"
      ],
      "text/plain": [
       "   USN   NAME  MOBILE  MARKS\n",
       "0   11  KATTY   23456     40\n",
       "1   12  POOJA   48373     46"
      ]
     },
     "execution_count": 52,
     "metadata": {},
     "output_type": "execute_result"
    }
   ],
   "source": [
    "#DataFrame operations\n",
    "std.head(2)\n",
    "#head - displaying rows\n",
    "#display all by default\n",
    "#parameters passed, display rows as per para"
   ]
  },
  {
   "cell_type": "code",
   "execution_count": 53,
   "id": "ab163753-5133-4de0-a7c6-4441a30b49c9",
   "metadata": {},
   "outputs": [
    {
     "data": {
      "text/plain": [
       "Index(['USN', 'NAME', 'MOBILE', 'MARKS'], dtype='object')"
      ]
     },
     "execution_count": 53,
     "metadata": {},
     "output_type": "execute_result"
    }
   ],
   "source": [
    "std.columns\n",
    "#list of columns in my df"
   ]
  },
  {
   "cell_type": "code",
   "execution_count": 54,
   "id": "083d1d0e-b96c-4650-8537-f81b4ba478e0",
   "metadata": {},
   "outputs": [
    {
     "name": "stdout",
     "output_type": "stream",
     "text": [
      "<class 'pandas.core.frame.DataFrame'>\n",
      "RangeIndex: 5 entries, 0 to 4\n",
      "Data columns (total 4 columns):\n",
      " #   Column  Non-Null Count  Dtype \n",
      "---  ------  --------------  ----- \n",
      " 0   USN     5 non-null      int64 \n",
      " 1   NAME    5 non-null      object\n",
      " 2   MOBILE  5 non-null      int64 \n",
      " 3   MARKS   5 non-null      int64 \n",
      "dtypes: int64(3), object(1)\n",
      "memory usage: 288.0+ bytes\n"
     ]
    }
   ],
   "source": [
    "std.info()\n",
    "#gives all the information about my df"
   ]
  },
  {
   "cell_type": "code",
   "execution_count": 55,
   "id": "3dbc2cc0-23cb-480a-9907-8c375e686b2b",
   "metadata": {},
   "outputs": [
    {
     "data": {
      "text/html": [
       "<div>\n",
       "<style scoped>\n",
       "    .dataframe tbody tr th:only-of-type {\n",
       "        vertical-align: middle;\n",
       "    }\n",
       "\n",
       "    .dataframe tbody tr th {\n",
       "        vertical-align: top;\n",
       "    }\n",
       "\n",
       "    .dataframe thead th {\n",
       "        text-align: right;\n",
       "    }\n",
       "</style>\n",
       "<table border=\"1\" class=\"dataframe\">\n",
       "  <thead>\n",
       "    <tr style=\"text-align: right;\">\n",
       "      <th></th>\n",
       "      <th>USN</th>\n",
       "      <th>NAME</th>\n",
       "      <th>MOBILE</th>\n",
       "      <th>MARKS</th>\n",
       "    </tr>\n",
       "  </thead>\n",
       "  <tbody>\n",
       "    <tr>\n",
       "      <th>0</th>\n",
       "      <td>False</td>\n",
       "      <td>False</td>\n",
       "      <td>False</td>\n",
       "      <td>False</td>\n",
       "    </tr>\n",
       "    <tr>\n",
       "      <th>1</th>\n",
       "      <td>False</td>\n",
       "      <td>False</td>\n",
       "      <td>False</td>\n",
       "      <td>False</td>\n",
       "    </tr>\n",
       "    <tr>\n",
       "      <th>2</th>\n",
       "      <td>False</td>\n",
       "      <td>False</td>\n",
       "      <td>False</td>\n",
       "      <td>False</td>\n",
       "    </tr>\n",
       "    <tr>\n",
       "      <th>3</th>\n",
       "      <td>False</td>\n",
       "      <td>False</td>\n",
       "      <td>False</td>\n",
       "      <td>False</td>\n",
       "    </tr>\n",
       "    <tr>\n",
       "      <th>4</th>\n",
       "      <td>False</td>\n",
       "      <td>False</td>\n",
       "      <td>False</td>\n",
       "      <td>False</td>\n",
       "    </tr>\n",
       "  </tbody>\n",
       "</table>\n",
       "</div>"
      ],
      "text/plain": [
       "     USN   NAME  MOBILE  MARKS\n",
       "0  False  False   False  False\n",
       "1  False  False   False  False\n",
       "2  False  False   False  False\n",
       "3  False  False   False  False\n",
       "4  False  False   False  False"
      ]
     },
     "execution_count": 55,
     "metadata": {},
     "output_type": "execute_result"
    }
   ],
   "source": [
    "std.isnull()\n",
    "#gives the boolean value of the df"
   ]
  },
  {
   "cell_type": "code",
   "execution_count": 56,
   "id": "09dbc968-d9ea-4752-9032-f6ec85d5708d",
   "metadata": {},
   "outputs": [
    {
     "data": {
      "text/html": [
       "<div>\n",
       "<style scoped>\n",
       "    .dataframe tbody tr th:only-of-type {\n",
       "        vertical-align: middle;\n",
       "    }\n",
       "\n",
       "    .dataframe tbody tr th {\n",
       "        vertical-align: top;\n",
       "    }\n",
       "\n",
       "    .dataframe thead th {\n",
       "        text-align: right;\n",
       "    }\n",
       "</style>\n",
       "<table border=\"1\" class=\"dataframe\">\n",
       "  <thead>\n",
       "    <tr style=\"text-align: right;\">\n",
       "      <th></th>\n",
       "      <th>USN</th>\n",
       "      <th>NAME</th>\n",
       "      <th>MOBILE</th>\n",
       "      <th>MARKS</th>\n",
       "    </tr>\n",
       "  </thead>\n",
       "  <tbody>\n",
       "    <tr>\n",
       "      <th>0</th>\n",
       "      <td>11</td>\n",
       "      <td>KATTY</td>\n",
       "      <td>23456</td>\n",
       "      <td>40</td>\n",
       "    </tr>\n",
       "    <tr>\n",
       "      <th>1</th>\n",
       "      <td>12</td>\n",
       "      <td>POOJA</td>\n",
       "      <td>48373</td>\n",
       "      <td>46</td>\n",
       "    </tr>\n",
       "    <tr>\n",
       "      <th>2</th>\n",
       "      <td>13</td>\n",
       "      <td>DARSHAN</td>\n",
       "      <td>34983</td>\n",
       "      <td>39</td>\n",
       "    </tr>\n",
       "    <tr>\n",
       "      <th>3</th>\n",
       "      <td>14</td>\n",
       "      <td>NITISH</td>\n",
       "      <td>87432</td>\n",
       "      <td>45</td>\n",
       "    </tr>\n",
       "    <tr>\n",
       "      <th>4</th>\n",
       "      <td>15</td>\n",
       "      <td>SIMRAN</td>\n",
       "      <td>34897</td>\n",
       "      <td>42</td>\n",
       "    </tr>\n",
       "  </tbody>\n",
       "</table>\n",
       "</div>"
      ],
      "text/plain": [
       "   USN     NAME  MOBILE  MARKS\n",
       "0   11    KATTY   23456     40\n",
       "1   12    POOJA   48373     46\n",
       "2   13  DARSHAN   34983     39\n",
       "3   14   NITISH   87432     45\n",
       "4   15   SIMRAN   34897     42"
      ]
     },
     "execution_count": 56,
     "metadata": {},
     "output_type": "execute_result"
    }
   ],
   "source": [
    "std"
   ]
  },
  {
   "cell_type": "code",
   "execution_count": 57,
   "id": "9811386e-f2a6-405b-9225-7eb3fc39c3c5",
   "metadata": {},
   "outputs": [
    {
     "data": {
      "text/plain": [
       "0    11\n",
       "1    12\n",
       "2    13\n",
       "3    14\n",
       "4    15\n",
       "Name: USN, dtype: int64"
      ]
     },
     "execution_count": 57,
     "metadata": {},
     "output_type": "execute_result"
    }
   ],
   "source": [
    "#access columns\n",
    "std['USN']"
   ]
  },
  {
   "cell_type": "code",
   "execution_count": 58,
   "id": "21382b7c-5f1a-401c-a300-5e125dd73bf7",
   "metadata": {},
   "outputs": [
    {
     "data": {
      "text/html": [
       "<div>\n",
       "<style scoped>\n",
       "    .dataframe tbody tr th:only-of-type {\n",
       "        vertical-align: middle;\n",
       "    }\n",
       "\n",
       "    .dataframe tbody tr th {\n",
       "        vertical-align: top;\n",
       "    }\n",
       "\n",
       "    .dataframe thead th {\n",
       "        text-align: right;\n",
       "    }\n",
       "</style>\n",
       "<table border=\"1\" class=\"dataframe\">\n",
       "  <thead>\n",
       "    <tr style=\"text-align: right;\">\n",
       "      <th></th>\n",
       "      <th>USN</th>\n",
       "      <th>MARKS</th>\n",
       "      <th>MOBILE</th>\n",
       "    </tr>\n",
       "  </thead>\n",
       "  <tbody>\n",
       "    <tr>\n",
       "      <th>0</th>\n",
       "      <td>11</td>\n",
       "      <td>40</td>\n",
       "      <td>23456</td>\n",
       "    </tr>\n",
       "    <tr>\n",
       "      <th>1</th>\n",
       "      <td>12</td>\n",
       "      <td>46</td>\n",
       "      <td>48373</td>\n",
       "    </tr>\n",
       "    <tr>\n",
       "      <th>2</th>\n",
       "      <td>13</td>\n",
       "      <td>39</td>\n",
       "      <td>34983</td>\n",
       "    </tr>\n",
       "    <tr>\n",
       "      <th>3</th>\n",
       "      <td>14</td>\n",
       "      <td>45</td>\n",
       "      <td>87432</td>\n",
       "    </tr>\n",
       "    <tr>\n",
       "      <th>4</th>\n",
       "      <td>15</td>\n",
       "      <td>42</td>\n",
       "      <td>34897</td>\n",
       "    </tr>\n",
       "  </tbody>\n",
       "</table>\n",
       "</div>"
      ],
      "text/plain": [
       "   USN  MARKS  MOBILE\n",
       "0   11     40   23456\n",
       "1   12     46   48373\n",
       "2   13     39   34983\n",
       "3   14     45   87432\n",
       "4   15     42   34897"
      ]
     },
     "execution_count": 58,
     "metadata": {},
     "output_type": "execute_result"
    }
   ],
   "source": [
    "#access multiple columns\n",
    "std[['USN','MARKS','MOBILE']]"
   ]
  },
  {
   "cell_type": "code",
   "execution_count": 59,
   "id": "cd16a759-00e3-4d9e-9c4d-b4becdceaad8",
   "metadata": {},
   "outputs": [
    {
     "data": {
      "text/html": [
       "<div>\n",
       "<style scoped>\n",
       "    .dataframe tbody tr th:only-of-type {\n",
       "        vertical-align: middle;\n",
       "    }\n",
       "\n",
       "    .dataframe tbody tr th {\n",
       "        vertical-align: top;\n",
       "    }\n",
       "\n",
       "    .dataframe thead th {\n",
       "        text-align: right;\n",
       "    }\n",
       "</style>\n",
       "<table border=\"1\" class=\"dataframe\">\n",
       "  <thead>\n",
       "    <tr style=\"text-align: right;\">\n",
       "      <th></th>\n",
       "      <th>USN</th>\n",
       "      <th>NAME</th>\n",
       "      <th>MOBILE</th>\n",
       "      <th>MARKS</th>\n",
       "    </tr>\n",
       "  </thead>\n",
       "  <tbody>\n",
       "    <tr>\n",
       "      <th>0</th>\n",
       "      <td>11</td>\n",
       "      <td>KATTY</td>\n",
       "      <td>23456</td>\n",
       "      <td>40</td>\n",
       "    </tr>\n",
       "    <tr>\n",
       "      <th>1</th>\n",
       "      <td>12</td>\n",
       "      <td>POOJA</td>\n",
       "      <td>48373</td>\n",
       "      <td>46</td>\n",
       "    </tr>\n",
       "    <tr>\n",
       "      <th>2</th>\n",
       "      <td>13</td>\n",
       "      <td>DARSHAN</td>\n",
       "      <td>34983</td>\n",
       "      <td>39</td>\n",
       "    </tr>\n",
       "    <tr>\n",
       "      <th>3</th>\n",
       "      <td>14</td>\n",
       "      <td>NITISH</td>\n",
       "      <td>87432</td>\n",
       "      <td>45</td>\n",
       "    </tr>\n",
       "    <tr>\n",
       "      <th>4</th>\n",
       "      <td>15</td>\n",
       "      <td>SIMRAN</td>\n",
       "      <td>34897</td>\n",
       "      <td>42</td>\n",
       "    </tr>\n",
       "  </tbody>\n",
       "</table>\n",
       "</div>"
      ],
      "text/plain": [
       "   USN     NAME  MOBILE  MARKS\n",
       "0   11    KATTY   23456     40\n",
       "1   12    POOJA   48373     46\n",
       "2   13  DARSHAN   34983     39\n",
       "3   14   NITISH   87432     45\n",
       "4   15   SIMRAN   34897     42"
      ]
     },
     "execution_count": 59,
     "metadata": {},
     "output_type": "execute_result"
    }
   ],
   "source": [
    "std\n"
   ]
  },
  {
   "cell_type": "code",
   "execution_count": 60,
   "id": "e8b7223b-c667-4aa3-8078-e1820c8352bd",
   "metadata": {},
   "outputs": [
    {
     "data": {
      "text/plain": [
       "USN          12\n",
       "NAME      POOJA\n",
       "MOBILE    48373\n",
       "MARKS        46\n",
       "Name: 1, dtype: object"
      ]
     },
     "execution_count": 60,
     "metadata": {},
     "output_type": "execute_result"
    }
   ],
   "source": [
    "#access rows\n",
    "std.loc[1]\n",
    "#returns row"
   ]
  },
  {
   "cell_type": "code",
   "execution_count": 61,
   "id": "6dcf9fdc-5b02-4de8-9d5a-5768ee891f7e",
   "metadata": {},
   "outputs": [
    {
     "data": {
      "text/plain": [
       "USN            13\n",
       "NAME      DARSHAN\n",
       "MOBILE      34983\n",
       "MARKS          39\n",
       "Name: 2, dtype: object"
      ]
     },
     "execution_count": 61,
     "metadata": {},
     "output_type": "execute_result"
    }
   ],
   "source": [
    "std.iloc[2]\n",
    "#returns second row"
   ]
  },
  {
   "cell_type": "code",
   "execution_count": 62,
   "id": "dcc0db3e-f41e-4fec-9d84-2aeb60cda1e6",
   "metadata": {},
   "outputs": [
    {
     "data": {
      "text/html": [
       "<div>\n",
       "<style scoped>\n",
       "    .dataframe tbody tr th:only-of-type {\n",
       "        vertical-align: middle;\n",
       "    }\n",
       "\n",
       "    .dataframe tbody tr th {\n",
       "        vertical-align: top;\n",
       "    }\n",
       "\n",
       "    .dataframe thead th {\n",
       "        text-align: right;\n",
       "    }\n",
       "</style>\n",
       "<table border=\"1\" class=\"dataframe\">\n",
       "  <thead>\n",
       "    <tr style=\"text-align: right;\">\n",
       "      <th></th>\n",
       "      <th>NAME</th>\n",
       "      <th>MOBILE</th>\n",
       "      <th>MARKS</th>\n",
       "    </tr>\n",
       "    <tr>\n",
       "      <th>USN</th>\n",
       "      <th></th>\n",
       "      <th></th>\n",
       "      <th></th>\n",
       "    </tr>\n",
       "  </thead>\n",
       "  <tbody>\n",
       "    <tr>\n",
       "      <th>11</th>\n",
       "      <td>KATTY</td>\n",
       "      <td>23456</td>\n",
       "      <td>40</td>\n",
       "    </tr>\n",
       "    <tr>\n",
       "      <th>12</th>\n",
       "      <td>POOJA</td>\n",
       "      <td>48373</td>\n",
       "      <td>46</td>\n",
       "    </tr>\n",
       "    <tr>\n",
       "      <th>13</th>\n",
       "      <td>DARSHAN</td>\n",
       "      <td>34983</td>\n",
       "      <td>39</td>\n",
       "    </tr>\n",
       "    <tr>\n",
       "      <th>14</th>\n",
       "      <td>NITISH</td>\n",
       "      <td>87432</td>\n",
       "      <td>45</td>\n",
       "    </tr>\n",
       "    <tr>\n",
       "      <th>15</th>\n",
       "      <td>SIMRAN</td>\n",
       "      <td>34897</td>\n",
       "      <td>42</td>\n",
       "    </tr>\n",
       "  </tbody>\n",
       "</table>\n",
       "</div>"
      ],
      "text/plain": [
       "        NAME  MOBILE  MARKS\n",
       "USN                        \n",
       "11     KATTY   23456     40\n",
       "12     POOJA   48373     46\n",
       "13   DARSHAN   34983     39\n",
       "14    NITISH   87432     45\n",
       "15    SIMRAN   34897     42"
      ]
     },
     "execution_count": 62,
     "metadata": {},
     "output_type": "execute_result"
    }
   ],
   "source": [
    "\n",
    "index=['A','B','C','D','E']\n",
    "std.set_index('USN')"
   ]
  },
  {
   "cell_type": "code",
   "execution_count": 63,
   "id": "83c50087-bf24-438d-85e2-e03cdff9d148",
   "metadata": {},
   "outputs": [
    {
     "data": {
      "text/plain": [
       "USN            13\n",
       "NAME      DARSHAN\n",
       "MOBILE      34983\n",
       "MARKS          39\n",
       "Name: 2, dtype: object"
      ]
     },
     "execution_count": 63,
     "metadata": {},
     "output_type": "execute_result"
    }
   ],
   "source": [
    "std.iloc[2]"
   ]
  },
  {
   "cell_type": "code",
   "execution_count": 64,
   "id": "7e794fe2-10e4-4136-8927-af4f577ddf24",
   "metadata": {},
   "outputs": [
    {
     "name": "stdout",
     "output_type": "stream",
     "text": [
      "0     True\n",
      "1    False\n",
      "2     True\n",
      "3    False\n",
      "4     True\n",
      "Name: MARKS, dtype: bool\n"
     ]
    }
   ],
   "source": [
    "#conditional selection \n",
    "print(std['MARKS']<45)\n",
    "#this attritbute returns the boolean value of the given df in the form od true or false."
   ]
  },
  {
   "cell_type": "code",
   "execution_count": 65,
   "id": "d1f29ae6-dbd2-4083-8aeb-8df54a412905",
   "metadata": {},
   "outputs": [
    {
     "data": {
      "text/plain": [
       "0     True\n",
       "1    False\n",
       "2     True\n",
       "3    False\n",
       "4     True\n",
       "Name: MARKS, dtype: bool"
      ]
     },
     "execution_count": 65,
     "metadata": {},
     "output_type": "execute_result"
    }
   ],
   "source": [
    "(std['MARKS']<45)"
   ]
  },
  {
   "cell_type": "code",
   "execution_count": 66,
   "id": "42fba6a9-d202-4e48-8cfe-45c38bad7d16",
   "metadata": {},
   "outputs": [
    {
     "data": {
      "text/plain": [
       "0     True\n",
       "1    False\n",
       "2     True\n",
       "3    False\n",
       "4     True\n",
       "Name: MARKS, dtype: bool"
      ]
     },
     "execution_count": 66,
     "metadata": {},
     "output_type": "execute_result"
    }
   ],
   "source": [
    "std['MARKS']<45"
   ]
  },
  {
   "cell_type": "code",
   "execution_count": 67,
   "id": "7fd366f2-cbab-4ed8-bef5-314bde0a0507",
   "metadata": {},
   "outputs": [],
   "source": [
    "#the last three syntax's give the same output."
   ]
  },
  {
   "cell_type": "code",
   "execution_count": 68,
   "id": "3bb56f19-3a34-47d6-ab6f-dfa4f8ef25bb",
   "metadata": {},
   "outputs": [],
   "source": [
    "newdf=(std['MARKS']<45)"
   ]
  },
  {
   "cell_type": "code",
   "execution_count": 69,
   "id": "f67f7db2-07be-4533-8218-1562fcf9ea6d",
   "metadata": {},
   "outputs": [
    {
     "data": {
      "text/html": [
       "<div>\n",
       "<style scoped>\n",
       "    .dataframe tbody tr th:only-of-type {\n",
       "        vertical-align: middle;\n",
       "    }\n",
       "\n",
       "    .dataframe tbody tr th {\n",
       "        vertical-align: top;\n",
       "    }\n",
       "\n",
       "    .dataframe thead th {\n",
       "        text-align: right;\n",
       "    }\n",
       "</style>\n",
       "<table border=\"1\" class=\"dataframe\">\n",
       "  <thead>\n",
       "    <tr style=\"text-align: right;\">\n",
       "      <th></th>\n",
       "      <th>USN</th>\n",
       "      <th>NAME</th>\n",
       "      <th>MOBILE</th>\n",
       "      <th>MARKS</th>\n",
       "    </tr>\n",
       "  </thead>\n",
       "  <tbody>\n",
       "    <tr>\n",
       "      <th>0</th>\n",
       "      <td>11</td>\n",
       "      <td>KATTY</td>\n",
       "      <td>23456</td>\n",
       "      <td>40</td>\n",
       "    </tr>\n",
       "    <tr>\n",
       "      <th>2</th>\n",
       "      <td>13</td>\n",
       "      <td>DARSHAN</td>\n",
       "      <td>34983</td>\n",
       "      <td>39</td>\n",
       "    </tr>\n",
       "    <tr>\n",
       "      <th>4</th>\n",
       "      <td>15</td>\n",
       "      <td>SIMRAN</td>\n",
       "      <td>34897</td>\n",
       "      <td>42</td>\n",
       "    </tr>\n",
       "  </tbody>\n",
       "</table>\n",
       "</div>"
      ],
      "text/plain": [
       "   USN     NAME  MOBILE  MARKS\n",
       "0   11    KATTY   23456     40\n",
       "2   13  DARSHAN   34983     39\n",
       "4   15   SIMRAN   34897     42"
      ]
     },
     "execution_count": 69,
     "metadata": {},
     "output_type": "execute_result"
    }
   ],
   "source": [
    "std[newdf]\n",
    "#it makes a new table with the true values."
   ]
  },
  {
   "cell_type": "code",
   "execution_count": 70,
   "id": "0436a098-f292-4761-9ca3-d9b2ca7333d6",
   "metadata": {},
   "outputs": [
    {
     "data": {
      "text/plain": [
       "0      KATTY\n",
       "2    DARSHAN\n",
       "4     SIMRAN\n",
       "Name: NAME, dtype: object"
      ]
     },
     "execution_count": 70,
     "metadata": {},
     "output_type": "execute_result"
    }
   ],
   "source": [
    "std[newdf]['NAME']"
   ]
  },
  {
   "cell_type": "code",
   "execution_count": 71,
   "id": "d8ab103d-1205-4df8-9e11-94e5d5367e6d",
   "metadata": {},
   "outputs": [
    {
     "data": {
      "text/html": [
       "<div>\n",
       "<style scoped>\n",
       "    .dataframe tbody tr th:only-of-type {\n",
       "        vertical-align: middle;\n",
       "    }\n",
       "\n",
       "    .dataframe tbody tr th {\n",
       "        vertical-align: top;\n",
       "    }\n",
       "\n",
       "    .dataframe thead th {\n",
       "        text-align: right;\n",
       "    }\n",
       "</style>\n",
       "<table border=\"1\" class=\"dataframe\">\n",
       "  <thead>\n",
       "    <tr style=\"text-align: right;\">\n",
       "      <th></th>\n",
       "      <th>USN</th>\n",
       "      <th>NAME</th>\n",
       "      <th>MOBILE</th>\n",
       "      <th>MARKS</th>\n",
       "    </tr>\n",
       "  </thead>\n",
       "  <tbody>\n",
       "    <tr>\n",
       "      <th>1</th>\n",
       "      <td>12</td>\n",
       "      <td>POOJA</td>\n",
       "      <td>48373</td>\n",
       "      <td>46</td>\n",
       "    </tr>\n",
       "  </tbody>\n",
       "</table>\n",
       "</div>"
      ],
      "text/plain": [
       "   USN   NAME  MOBILE  MARKS\n",
       "1   12  POOJA   48373     46"
      ]
     },
     "execution_count": 71,
     "metadata": {},
     "output_type": "execute_result"
    }
   ],
   "source": [
    "#multiple conditions\n",
    "std[(std['NAME']=='POOJA')\n",
    "    &(std['MARKS']>39)]"
   ]
  },
  {
   "cell_type": "code",
   "execution_count": 72,
   "id": "5123c847-4028-406d-8631-b6431d9d46e9",
   "metadata": {},
   "outputs": [],
   "source": [
    "p={'USN':[11,12,13,14,15],\n",
    "  'NAME':['KATTY','POOJA','DARSHAN','NITISH','SIMRAN'],\n",
    "  'MOBILE':[23456,48373,34983,87432,34897],\n",
    "  'MARKS':[40,46,39,45,None]\n",
    "  }"
   ]
  },
  {
   "cell_type": "code",
   "execution_count": 73,
   "id": "c3068f41-6e45-405c-aa86-5827fd8427f9",
   "metadata": {},
   "outputs": [
    {
     "data": {
      "text/html": [
       "<div>\n",
       "<style scoped>\n",
       "    .dataframe tbody tr th:only-of-type {\n",
       "        vertical-align: middle;\n",
       "    }\n",
       "\n",
       "    .dataframe tbody tr th {\n",
       "        vertical-align: top;\n",
       "    }\n",
       "\n",
       "    .dataframe thead th {\n",
       "        text-align: right;\n",
       "    }\n",
       "</style>\n",
       "<table border=\"1\" class=\"dataframe\">\n",
       "  <thead>\n",
       "    <tr style=\"text-align: right;\">\n",
       "      <th></th>\n",
       "      <th>USN</th>\n",
       "      <th>NAME</th>\n",
       "      <th>MOBILE</th>\n",
       "      <th>MARKS</th>\n",
       "    </tr>\n",
       "  </thead>\n",
       "  <tbody>\n",
       "    <tr>\n",
       "      <th>3</th>\n",
       "      <td>14</td>\n",
       "      <td>NITISH</td>\n",
       "      <td>87432</td>\n",
       "      <td>45</td>\n",
       "    </tr>\n",
       "    <tr>\n",
       "      <th>4</th>\n",
       "      <td>15</td>\n",
       "      <td>SIMRAN</td>\n",
       "      <td>34897</td>\n",
       "      <td>42</td>\n",
       "    </tr>\n",
       "  </tbody>\n",
       "</table>\n",
       "</div>"
      ],
      "text/plain": [
       "   USN    NAME  MOBILE  MARKS\n",
       "3   14  NITISH   87432     45\n",
       "4   15  SIMRAN   34897     42"
      ]
     },
     "execution_count": 73,
     "metadata": {},
     "output_type": "execute_result"
    }
   ],
   "source": [
    "std[(std['USN']>13)\n",
    "     &(std['MARKS']<50)]"
   ]
  },
  {
   "cell_type": "code",
   "execution_count": 74,
   "id": "39ea8b99-d998-4cc0-96b0-90c5182ed82d",
   "metadata": {},
   "outputs": [
    {
     "name": "stdout",
     "output_type": "stream",
     "text": [
      "['banglore', 'delhi', 'punjab', 'orissa', ['bihar']] <class 'list'>\n"
     ]
    }
   ],
   "source": [
    "#adding a new column\n",
    "s=['banglore','delhi','punjab','orissa','bihar' .split(',')]\n",
    "print(s,type(s))"
   ]
  },
  {
   "cell_type": "code",
   "execution_count": 75,
   "id": "836feb45-6835-45b1-98be-f8d12fe43ae3",
   "metadata": {},
   "outputs": [],
   "source": [
    "std['address']=s"
   ]
  },
  {
   "cell_type": "code",
   "execution_count": 76,
   "id": "56334f22-f9fd-4882-a926-2de0076171f6",
   "metadata": {},
   "outputs": [
    {
     "data": {
      "text/html": [
       "<div>\n",
       "<style scoped>\n",
       "    .dataframe tbody tr th:only-of-type {\n",
       "        vertical-align: middle;\n",
       "    }\n",
       "\n",
       "    .dataframe tbody tr th {\n",
       "        vertical-align: top;\n",
       "    }\n",
       "\n",
       "    .dataframe thead th {\n",
       "        text-align: right;\n",
       "    }\n",
       "</style>\n",
       "<table border=\"1\" class=\"dataframe\">\n",
       "  <thead>\n",
       "    <tr style=\"text-align: right;\">\n",
       "      <th></th>\n",
       "      <th>USN</th>\n",
       "      <th>NAME</th>\n",
       "      <th>MOBILE</th>\n",
       "      <th>MARKS</th>\n",
       "      <th>address</th>\n",
       "    </tr>\n",
       "  </thead>\n",
       "  <tbody>\n",
       "    <tr>\n",
       "      <th>0</th>\n",
       "      <td>11</td>\n",
       "      <td>KATTY</td>\n",
       "      <td>23456</td>\n",
       "      <td>40</td>\n",
       "      <td>banglore</td>\n",
       "    </tr>\n",
       "    <tr>\n",
       "      <th>1</th>\n",
       "      <td>12</td>\n",
       "      <td>POOJA</td>\n",
       "      <td>48373</td>\n",
       "      <td>46</td>\n",
       "      <td>delhi</td>\n",
       "    </tr>\n",
       "    <tr>\n",
       "      <th>2</th>\n",
       "      <td>13</td>\n",
       "      <td>DARSHAN</td>\n",
       "      <td>34983</td>\n",
       "      <td>39</td>\n",
       "      <td>punjab</td>\n",
       "    </tr>\n",
       "    <tr>\n",
       "      <th>3</th>\n",
       "      <td>14</td>\n",
       "      <td>NITISH</td>\n",
       "      <td>87432</td>\n",
       "      <td>45</td>\n",
       "      <td>orissa</td>\n",
       "    </tr>\n",
       "    <tr>\n",
       "      <th>4</th>\n",
       "      <td>15</td>\n",
       "      <td>SIMRAN</td>\n",
       "      <td>34897</td>\n",
       "      <td>42</td>\n",
       "      <td>[bihar]</td>\n",
       "    </tr>\n",
       "  </tbody>\n",
       "</table>\n",
       "</div>"
      ],
      "text/plain": [
       "   USN     NAME  MOBILE  MARKS   address\n",
       "0   11    KATTY   23456     40  banglore\n",
       "1   12    POOJA   48373     46     delhi\n",
       "2   13  DARSHAN   34983     39    punjab\n",
       "3   14   NITISH   87432     45    orissa\n",
       "4   15   SIMRAN   34897     42   [bihar]"
      ]
     },
     "execution_count": 76,
     "metadata": {},
     "output_type": "execute_result"
    }
   ],
   "source": [
    "std"
   ]
  },
  {
   "cell_type": "code",
   "execution_count": 79,
   "id": "19c422c9-e5ce-4d4d-b539-0f8624bfc80f",
   "metadata": {},
   "outputs": [
    {
     "data": {
      "text/html": [
       "<div>\n",
       "<style scoped>\n",
       "    .dataframe tbody tr th:only-of-type {\n",
       "        vertical-align: middle;\n",
       "    }\n",
       "\n",
       "    .dataframe tbody tr th {\n",
       "        vertical-align: top;\n",
       "    }\n",
       "\n",
       "    .dataframe thead th {\n",
       "        text-align: right;\n",
       "    }\n",
       "</style>\n",
       "<table border=\"1\" class=\"dataframe\">\n",
       "  <thead>\n",
       "    <tr style=\"text-align: right;\">\n",
       "      <th></th>\n",
       "      <th>USN</th>\n",
       "      <th>NAME</th>\n",
       "      <th>MOBILE</th>\n",
       "      <th>MARKS</th>\n",
       "    </tr>\n",
       "  </thead>\n",
       "  <tbody>\n",
       "    <tr>\n",
       "      <th>0</th>\n",
       "      <td>11</td>\n",
       "      <td>KATTY</td>\n",
       "      <td>23456</td>\n",
       "      <td>40</td>\n",
       "    </tr>\n",
       "    <tr>\n",
       "      <th>1</th>\n",
       "      <td>12</td>\n",
       "      <td>POOJA</td>\n",
       "      <td>48373</td>\n",
       "      <td>46</td>\n",
       "    </tr>\n",
       "    <tr>\n",
       "      <th>2</th>\n",
       "      <td>13</td>\n",
       "      <td>DARSHAN</td>\n",
       "      <td>34983</td>\n",
       "      <td>39</td>\n",
       "    </tr>\n",
       "    <tr>\n",
       "      <th>3</th>\n",
       "      <td>14</td>\n",
       "      <td>NITISH</td>\n",
       "      <td>87432</td>\n",
       "      <td>45</td>\n",
       "    </tr>\n",
       "    <tr>\n",
       "      <th>4</th>\n",
       "      <td>15</td>\n",
       "      <td>SIMRAN</td>\n",
       "      <td>34897</td>\n",
       "      <td>42</td>\n",
       "    </tr>\n",
       "  </tbody>\n",
       "</table>\n",
       "</div>"
      ],
      "text/plain": [
       "   USN     NAME  MOBILE  MARKS\n",
       "0   11    KATTY   23456     40\n",
       "1   12    POOJA   48373     46\n",
       "2   13  DARSHAN   34983     39\n",
       "3   14   NITISH   87432     45\n",
       "4   15   SIMRAN   34897     42"
      ]
     },
     "execution_count": 79,
     "metadata": {},
     "output_type": "execute_result"
    }
   ],
   "source": [
    "std.drop(\"address\",axis=1,inplace=True)\n",
    "std.head()"
   ]
  },
  {
   "cell_type": "code",
   "execution_count": null,
   "id": "6c51593d-df90-409f-ab60-b6564a0504c8",
   "metadata": {},
   "outputs": [],
   "source": [
    "std.drop(2)"
   ]
  },
  {
   "cell_type": "code",
   "execution_count": null,
   "id": "ff615edd-17c9-4b57-9fe4-f5b2974e3b8a",
   "metadata": {},
   "outputs": [],
   "source": [
    "d2={'USN':[11,12,13,14,15],\n",
    "  'NAME':['POOJA','DARSHAN','NITISH','SIMRAN',None],\n",
    "  'MOBILE':[23456,48373,34983,87432,None],\n",
    "  'MARKS':[40,46,None,39,45]\n",
    "  }\n"
   ]
  },
  {
   "cell_type": "code",
   "execution_count": null,
   "id": "232910bd-10a9-4d49-9213-2870b60c575b",
   "metadata": {},
   "outputs": [],
   "source": [
    "df=pd.DataFrame(d2)"
   ]
  },
  {
   "cell_type": "code",
   "execution_count": null,
   "id": "7e378db2-98fd-4722-8630-9678e4661a4a",
   "metadata": {},
   "outputs": [],
   "source": [
    "df"
   ]
  },
  {
   "cell_type": "code",
   "execution_count": null,
   "id": "594ef0d2-ba51-4b96-a0a5-a05cdf613b76",
   "metadata": {},
   "outputs": [],
   "source": [
    "df.dropna(thresh=2)"
   ]
  },
  {
   "cell_type": "code",
   "execution_count": null,
   "id": "37b56677-a9b1-45ad-89c5-0d3e129c702c",
   "metadata": {},
   "outputs": [],
   "source": []
  }
 ],
 "metadata": {
  "kernelspec": {
   "display_name": "Python 3 (ipykernel)",
   "language": "python",
   "name": "python3"
  },
  "language_info": {
   "codemirror_mode": {
    "name": "ipython",
    "version": 3
   },
   "file_extension": ".py",
   "mimetype": "text/x-python",
   "name": "python",
   "nbconvert_exporter": "python",
   "pygments_lexer": "ipython3",
   "version": "3.9.13"
  }
 },
 "nbformat": 4,
 "nbformat_minor": 5
}

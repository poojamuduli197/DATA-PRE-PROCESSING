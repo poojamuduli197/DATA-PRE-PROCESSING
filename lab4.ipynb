{
 "cells": [
  {
   "cell_type": "code",
   "execution_count": 1,
   "id": "424ec549-5a82-47f7-82b5-f96755ae2a9a",
   "metadata": {},
   "outputs": [],
   "source": [
    "import numpy as np\n",
    "import pandas as pd"
   ]
  },
  {
   "cell_type": "code",
   "execution_count": 3,
   "id": "eecb4b21-411f-4345-ad04-151193cf648c",
   "metadata": {},
   "outputs": [],
   "source": [
    "d={'USN':[100,101,102],\n",
    "   'name':['Raja','Rajkumar','Pooja'],\n",
    "  'mobile':[99,88,77],\n",
    "   'marks':[10,9,8]\n",
    "  }"
   ]
  },
  {
   "cell_type": "code",
   "execution_count": 4,
   "id": "c8a5cd2a-1696-4b36-afef-3c3af29d3f9d",
   "metadata": {},
   "outputs": [],
   "source": [
    "std=pd.DataFrame(d)"
   ]
  },
  {
   "cell_type": "code",
   "execution_count": 5,
   "id": "6b9a1283-b1ff-4bdb-8592-1b2e8435d6b7",
   "metadata": {},
   "outputs": [
    {
     "name": "stdout",
     "output_type": "stream",
     "text": [
      "   USN      name  mobile  marks\n",
      "0  100      Raja      99     10\n",
      "1  101  Rajkumar      88      9\n",
      "2  102     Pooja      77      8\n"
     ]
    }
   ],
   "source": [
    "print(std)"
   ]
  },
  {
   "cell_type": "code",
   "execution_count": 6,
   "id": "89ed5b7f-2f62-4096-8b87-7dba9eb29414",
   "metadata": {},
   "outputs": [],
   "source": [
    "d1={'c1':[12,13,14],\n",
    "    'c2':[10,11,12]\n",
    "   };\n",
    "d2={'c3':[5,6,7],\n",
    "    'c4':[1,2,3]\n",
    "   };\n",
    "d3={'c5':[123,456,678],\n",
    "    'c6':[3,4,5]\n",
    "   };"
   ]
  },
  {
   "cell_type": "code",
   "execution_count": 7,
   "id": "11c780f7-2e61-4360-a6c2-a88aad42a280",
   "metadata": {},
   "outputs": [],
   "source": [
    "df1=pd.DataFrame(d1)"
   ]
  },
  {
   "cell_type": "code",
   "execution_count": 8,
   "id": "6fae2574-0fb0-42f6-8528-2c46d91c0a00",
   "metadata": {},
   "outputs": [
    {
     "name": "stdout",
     "output_type": "stream",
     "text": [
      "   c1  c2\n",
      "0  12  10\n",
      "1  13  11\n",
      "2  14  12\n"
     ]
    }
   ],
   "source": [
    "print(df1)"
   ]
  },
  {
   "cell_type": "code",
   "execution_count": 9,
   "id": "c8103bce-718b-42d2-a8b2-3a0eea2523c2",
   "metadata": {},
   "outputs": [],
   "source": [
    "df2=pd.DataFrame(d2)"
   ]
  },
  {
   "cell_type": "code",
   "execution_count": 10,
   "id": "3ca456bd-313e-427c-95ac-3d69ab24ffce",
   "metadata": {},
   "outputs": [
    {
     "name": "stdout",
     "output_type": "stream",
     "text": [
      "   c3  c4\n",
      "0   5   1\n",
      "1   6   2\n",
      "2   7   3\n"
     ]
    }
   ],
   "source": [
    "print(df2)"
   ]
  },
  {
   "cell_type": "code",
   "execution_count": 11,
   "id": "40899646-6ed8-4891-8afc-59b2c20b12b7",
   "metadata": {},
   "outputs": [],
   "source": [
    "df3=pd.DataFrame(d3)"
   ]
  },
  {
   "cell_type": "code",
   "execution_count": 12,
   "id": "75d05e15-cd5f-438b-932a-6c91a291ca97",
   "metadata": {},
   "outputs": [
    {
     "name": "stdout",
     "output_type": "stream",
     "text": [
      "    c5  c6\n",
      "0  123   3\n",
      "1  456   4\n",
      "2  678   5\n"
     ]
    }
   ],
   "source": [
    "print(df3)"
   ]
  },
  {
   "cell_type": "code",
   "execution_count": 13,
   "id": "5028ed7a-6461-4ba3-98e7-0f3365ba7bcd",
   "metadata": {},
   "outputs": [
    {
     "data": {
      "text/html": [
       "<div>\n",
       "<style scoped>\n",
       "    .dataframe tbody tr th:only-of-type {\n",
       "        vertical-align: middle;\n",
       "    }\n",
       "\n",
       "    .dataframe tbody tr th {\n",
       "        vertical-align: top;\n",
       "    }\n",
       "\n",
       "    .dataframe thead th {\n",
       "        text-align: right;\n",
       "    }\n",
       "</style>\n",
       "<table border=\"1\" class=\"dataframe\">\n",
       "  <thead>\n",
       "    <tr style=\"text-align: right;\">\n",
       "      <th></th>\n",
       "      <th>c1</th>\n",
       "      <th>c2</th>\n",
       "      <th>c3</th>\n",
       "      <th>c4</th>\n",
       "    </tr>\n",
       "  </thead>\n",
       "  <tbody>\n",
       "    <tr>\n",
       "      <th>0</th>\n",
       "      <td>12.0</td>\n",
       "      <td>10.0</td>\n",
       "      <td>NaN</td>\n",
       "      <td>NaN</td>\n",
       "    </tr>\n",
       "    <tr>\n",
       "      <th>1</th>\n",
       "      <td>13.0</td>\n",
       "      <td>11.0</td>\n",
       "      <td>NaN</td>\n",
       "      <td>NaN</td>\n",
       "    </tr>\n",
       "    <tr>\n",
       "      <th>2</th>\n",
       "      <td>14.0</td>\n",
       "      <td>12.0</td>\n",
       "      <td>NaN</td>\n",
       "      <td>NaN</td>\n",
       "    </tr>\n",
       "    <tr>\n",
       "      <th>0</th>\n",
       "      <td>NaN</td>\n",
       "      <td>NaN</td>\n",
       "      <td>5.0</td>\n",
       "      <td>1.0</td>\n",
       "    </tr>\n",
       "    <tr>\n",
       "      <th>1</th>\n",
       "      <td>NaN</td>\n",
       "      <td>NaN</td>\n",
       "      <td>6.0</td>\n",
       "      <td>2.0</td>\n",
       "    </tr>\n",
       "    <tr>\n",
       "      <th>2</th>\n",
       "      <td>NaN</td>\n",
       "      <td>NaN</td>\n",
       "      <td>7.0</td>\n",
       "      <td>3.0</td>\n",
       "    </tr>\n",
       "  </tbody>\n",
       "</table>\n",
       "</div>"
      ],
      "text/plain": [
       "     c1    c2   c3   c4\n",
       "0  12.0  10.0  NaN  NaN\n",
       "1  13.0  11.0  NaN  NaN\n",
       "2  14.0  12.0  NaN  NaN\n",
       "0   NaN   NaN  5.0  1.0\n",
       "1   NaN   NaN  6.0  2.0\n",
       "2   NaN   NaN  7.0  3.0"
      ]
     },
     "execution_count": 13,
     "metadata": {},
     "output_type": "execute_result"
    }
   ],
   "source": [
    "pd.concat([df1,df2])"
   ]
  },
  {
   "cell_type": "markdown",
   "id": "5f401673-0234-4182-b91f-d3f5e1a2c7de",
   "metadata": {},
   "source": [
    "Join types\n",
    "1.inner combine 2 data frames based on common clomun name : on 2.right 3.left 4.outer"
   ]
  },
  {
   "cell_type": "code",
   "execution_count": 14,
   "id": "ff7b2fd0-a42f-45c9-a36a-841fa4f10d05",
   "metadata": {},
   "outputs": [],
   "source": [
    "d4={'c1':[12,13,14],\n",
    "    'c2':[10,11,12]\n",
    "   };\n",
    "d5={'c2':[5,6,7],\n",
    "    'c4':[1,2,3]\n",
    "   };"
   ]
  },
  {
   "cell_type": "code",
   "execution_count": 15,
   "id": "3c0df6e3-8d5c-4c05-949d-dc29ab3cd04d",
   "metadata": {},
   "outputs": [],
   "source": [
    "df4=pd.DataFrame(d4)\n",
    "df5=pd.DataFrame(d5)"
   ]
  },
  {
   "cell_type": "code",
   "execution_count": 16,
   "id": "a0c8bed0-7d05-4e25-8eb7-0d4e9ddd9ecc",
   "metadata": {},
   "outputs": [
    {
     "data": {
      "text/html": [
       "<div>\n",
       "<style scoped>\n",
       "    .dataframe tbody tr th:only-of-type {\n",
       "        vertical-align: middle;\n",
       "    }\n",
       "\n",
       "    .dataframe tbody tr th {\n",
       "        vertical-align: top;\n",
       "    }\n",
       "\n",
       "    .dataframe thead th {\n",
       "        text-align: right;\n",
       "    }\n",
       "</style>\n",
       "<table border=\"1\" class=\"dataframe\">\n",
       "  <thead>\n",
       "    <tr style=\"text-align: right;\">\n",
       "      <th></th>\n",
       "      <th>c1</th>\n",
       "      <th>c2</th>\n",
       "      <th>c4</th>\n",
       "    </tr>\n",
       "  </thead>\n",
       "  <tbody>\n",
       "  </tbody>\n",
       "</table>\n",
       "</div>"
      ],
      "text/plain": [
       "Empty DataFrame\n",
       "Columns: [c1, c2, c4]\n",
       "Index: []"
      ]
     },
     "execution_count": 16,
     "metadata": {},
     "output_type": "execute_result"
    }
   ],
   "source": [
    "pd.merge(df4,df5,how='inner',on='c2')\n",
    "# returns only rows which are common"
   ]
  },
  {
   "cell_type": "code",
   "execution_count": 17,
   "id": "f5b61e8b-10bd-4271-8e75-cd1dbee0e7fa",
   "metadata": {},
   "outputs": [],
   "source": [
    "d6={'c1':[12,13,14,11],\n",
    "    'c2':[5,6,7,10]\n",
    "   };\n",
    "d7={'c2':[5,6,7,9],\n",
    "    'c4':[1,2,3,7]\n",
    "   };\n",
    "d8={'c2':[5,6,7],\n",
    "    'c4':[1,2,3]\n",
    "   };"
   ]
  },
  {
   "cell_type": "code",
   "execution_count": 18,
   "id": "07ac2052-017b-4a11-9810-8c3ce28c3426",
   "metadata": {},
   "outputs": [],
   "source": [
    "df6=pd.DataFrame(d6)\n",
    "df7=pd.DataFrame(d7)\n",
    "df8=pd.DataFrame(d8)"
   ]
  },
  {
   "cell_type": "code",
   "execution_count": 19,
   "id": "2ffe32a1-4e7c-4f1a-aa8b-ea4129540e71",
   "metadata": {},
   "outputs": [
    {
     "data": {
      "text/html": [
       "<div>\n",
       "<style scoped>\n",
       "    .dataframe tbody tr th:only-of-type {\n",
       "        vertical-align: middle;\n",
       "    }\n",
       "\n",
       "    .dataframe tbody tr th {\n",
       "        vertical-align: top;\n",
       "    }\n",
       "\n",
       "    .dataframe thead th {\n",
       "        text-align: right;\n",
       "    }\n",
       "</style>\n",
       "<table border=\"1\" class=\"dataframe\">\n",
       "  <thead>\n",
       "    <tr style=\"text-align: right;\">\n",
       "      <th></th>\n",
       "      <th>c1</th>\n",
       "      <th>c2</th>\n",
       "      <th>c4</th>\n",
       "    </tr>\n",
       "  </thead>\n",
       "  <tbody>\n",
       "    <tr>\n",
       "      <th>0</th>\n",
       "      <td>12</td>\n",
       "      <td>5</td>\n",
       "      <td>1.0</td>\n",
       "    </tr>\n",
       "    <tr>\n",
       "      <th>1</th>\n",
       "      <td>13</td>\n",
       "      <td>6</td>\n",
       "      <td>2.0</td>\n",
       "    </tr>\n",
       "    <tr>\n",
       "      <th>2</th>\n",
       "      <td>14</td>\n",
       "      <td>7</td>\n",
       "      <td>3.0</td>\n",
       "    </tr>\n",
       "    <tr>\n",
       "      <th>3</th>\n",
       "      <td>11</td>\n",
       "      <td>10</td>\n",
       "      <td>NaN</td>\n",
       "    </tr>\n",
       "  </tbody>\n",
       "</table>\n",
       "</div>"
      ],
      "text/plain": [
       "   c1  c2   c4\n",
       "0  12   5  1.0\n",
       "1  13   6  2.0\n",
       "2  14   7  3.0\n",
       "3  11  10  NaN"
      ]
     },
     "execution_count": 19,
     "metadata": {},
     "output_type": "execute_result"
    }
   ],
   "source": [
    "pd.merge(df6,df7,how='left',on='c2')"
   ]
  },
  {
   "cell_type": "code",
   "execution_count": 20,
   "id": "a268bd71-226a-4201-bf01-b1450b84b4c6",
   "metadata": {},
   "outputs": [
    {
     "data": {
      "text/html": [
       "<div>\n",
       "<style scoped>\n",
       "    .dataframe tbody tr th:only-of-type {\n",
       "        vertical-align: middle;\n",
       "    }\n",
       "\n",
       "    .dataframe tbody tr th {\n",
       "        vertical-align: top;\n",
       "    }\n",
       "\n",
       "    .dataframe thead th {\n",
       "        text-align: right;\n",
       "    }\n",
       "</style>\n",
       "<table border=\"1\" class=\"dataframe\">\n",
       "  <thead>\n",
       "    <tr style=\"text-align: right;\">\n",
       "      <th></th>\n",
       "      <th>c1</th>\n",
       "      <th>c2</th>\n",
       "      <th>c4</th>\n",
       "    </tr>\n",
       "  </thead>\n",
       "  <tbody>\n",
       "    <tr>\n",
       "      <th>0</th>\n",
       "      <td>12</td>\n",
       "      <td>5</td>\n",
       "      <td>1</td>\n",
       "    </tr>\n",
       "    <tr>\n",
       "      <th>1</th>\n",
       "      <td>13</td>\n",
       "      <td>6</td>\n",
       "      <td>2</td>\n",
       "    </tr>\n",
       "    <tr>\n",
       "      <th>2</th>\n",
       "      <td>14</td>\n",
       "      <td>7</td>\n",
       "      <td>3</td>\n",
       "    </tr>\n",
       "  </tbody>\n",
       "</table>\n",
       "</div>"
      ],
      "text/plain": [
       "   c1  c2  c4\n",
       "0  12   5   1\n",
       "1  13   6   2\n",
       "2  14   7   3"
      ]
     },
     "execution_count": 20,
     "metadata": {},
     "output_type": "execute_result"
    }
   ],
   "source": [
    "pd.merge(df6,df7,how='inner',on='c2')"
   ]
  },
  {
   "cell_type": "code",
   "execution_count": null,
   "id": "78ad07c6-be86-40df-bdea-5dec1c96a759",
   "metadata": {},
   "outputs": [],
   "source": []
  }
 ],
 "metadata": {
  "kernelspec": {
   "display_name": "Python 3 (ipykernel)",
   "language": "python",
   "name": "python3"
  },
  "language_info": {
   "codemirror_mode": {
    "name": "ipython",
    "version": 3
   },
   "file_extension": ".py",
   "mimetype": "text/x-python",
   "name": "python",
   "nbconvert_exporter": "python",
   "pygments_lexer": "ipython3",
   "version": "3.9.13"
  }
 },
 "nbformat": 4,
 "nbformat_minor": 5
}
